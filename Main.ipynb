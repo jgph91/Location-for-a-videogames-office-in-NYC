{
 "cells": [
  {
   "cell_type": "code",
   "execution_count": 1,
   "metadata": {
    "scrolled": true
   },
   "outputs": [],
   "source": [
    "# modules\n",
    "\n",
    "import folium\n",
    "from SRC.functions import connectCollection,dist"
   ]
  },
  {
   "cell_type": "markdown",
   "metadata": {},
   "source": [
    "## Conecting to the final collection, which stores the cleaned coordinates"
   ]
  },
  {
   "cell_type": "code",
   "execution_count": 2,
   "metadata": {},
   "outputs": [],
   "source": [
    "# final collection\n",
    "final_db, final_coll = connectCollection('New_York','Final_New_York')"
   ]
  },
  {
   "cell_type": "code",
   "execution_count": 74,
   "metadata": {},
   "outputs": [
    {
     "data": {
      "text/plain": [
       "60"
      ]
     },
     "execution_count": 74,
     "metadata": {},
     "output_type": "execute_result"
    }
   ],
   "source": [
    "# getting the coordinates of video games offices in New York\n",
    "games_ny = list(final_coll.find({'category': 'Video games companies'}))\n",
    "\n",
    "# getting the coordinates of the offices in New York, which were founded before 2009\n",
    "office_10 = list(final_coll.find({'category': 'Old companies'}))\n",
    "\n",
    "# getting the coordinates of Starbucks in New York\n",
    "starbucks_ny = list(final_coll.find({'category': 'Starbucks'}))\n",
    "\n",
    "# getting the coordinates of Kindergartens in New York\n",
    "kindergartens_ny = list(final_coll.find({'category': 'Kindergartens'}))\n",
    "\n",
    "# getting the coordinates of Vegans in New York\n",
    "vegans_ny = list(final_coll.find({'category': 'Vegan food'}))\n",
    "\n",
    "# getting the coordinates of Clubs in New York\n",
    "clubs_ny = list(final_coll.find({'category': 'Clubs'}))\n",
    "\n",
    "len(starbucks_ny)"
   ]
  },
  {
   "cell_type": "markdown",
   "metadata": {},
   "source": [
    "## Requisites"
   ]
  },
  {
   "cell_type": "markdown",
   "metadata": {},
   "source": [
    "- Designers like to go to design talks and share knowledge. There must be some nearby companies that also do design.    \n",
    "- Nobody in the company likes to have companies with more than 10 years in a radius of 2 KM.    \n",
    "- Executives like Starbucks A LOT. Ensure there's a starbucks not to far.\n",
    "- The CEO is Vegan \n",
    "- All people in the company have between 25 and 40 years, give them some place to go to party."
   ]
  },
  {
   "cell_type": "markdown",
   "metadata": {},
   "source": [
    "## old"
   ]
  },
  {
   "cell_type": "code",
   "execution_count": 89,
   "metadata": {
    "scrolled": true
   },
   "outputs": [
    {
     "name": "stdout",
     "output_type": "stream",
     "text": [
      "45\n",
      "1\n"
     ]
    }
   ],
   "source": [
    "# the future office is going to be located in the same building, where other video games company has it's office\n",
    "# offices which are located in a radius of 2 km near old companies, founded before 2009 are discarded\n",
    "       \n",
    "old_near = []#list for storing possible locations which meets the requirement \n",
    "possible_locations_old = list(final_coll.find({'category': 'Video games companies'}))\n",
    "\n",
    "print(len(possible_locations_old))\n",
    "\n",
    "for e in office_10:# coordinates of each old company\n",
    "    ok = dist(e,1000)\n",
    "    old_near.append(ok)\n",
    "    \n",
    "\n",
    "for e in old_near:\n",
    "    for subelement in e:\n",
    "        if subelement in possible_locations_old:\n",
    "            possible_locations_old.remove(subelement)\n",
    "            \n",
    "print(len(possible_locations_old))"
   ]
  },
  {
   "cell_type": "markdown",
   "metadata": {},
   "source": [
    "## starbucks"
   ]
  },
  {
   "cell_type": "code",
   "execution_count": 175,
   "metadata": {},
   "outputs": [],
   "source": [
    "#list for storing possible locations which meets the requirement \n",
    "starbucks_near = []\n",
    "possible_locations_starbucks = list(final_coll.find({'category': 'Video games companies'}))\n",
    "\n",
    "\n",
    "\n",
    "for e in starbucks_ny:\n",
    "    ok = dist(e,300)\n",
    "    starbucks_near.append(ok)\n",
    "\n",
    "\n",
    "# list storing video games offices which have a starbucks in its surroundings \n",
    "starbucks_near = [x for x in starbucks_near if x != []]\n",
    "\n",
    "# list including the offices which meet the requirement\n",
    "starbucks_near = [item for sublist in starbucks_near for item in sublist]\n",
    "\n",
    "#cleaning duplicates\n",
    "\n",
    "starbucks_near_final = []\n",
    "\n",
    "for e in starbucks_near:\n",
    "    if e not in starbucks_near_final:\n",
    "        starbucks_near_final.append(e)\n",
    "        "
   ]
  },
  {
   "cell_type": "code",
   "execution_count": null,
   "metadata": {},
   "outputs": [],
   "source": []
  },
  {
   "cell_type": "markdown",
   "metadata": {},
   "source": [
    "## Kindergartens"
   ]
  },
  {
   "cell_type": "code",
   "execution_count": 133,
   "metadata": {},
   "outputs": [
    {
     "name": "stdout",
     "output_type": "stream",
     "text": [
      "45\n"
     ]
    },
    {
     "data": {
      "text/plain": [
       "30"
      ]
     },
     "execution_count": 133,
     "metadata": {},
     "output_type": "execute_result"
    }
   ],
   "source": [
    "kindergartens_near = []#list for storing possible locations which meets the requirement \n",
    "possible_locations_kindergartens = list(final_coll.find({'category': 'Video games companies'}))\n",
    "\n",
    "print(len(possible_locations_kindergartens))\n",
    "\n",
    "for e in kindergartens_ny:\n",
    "    ok = dist(e,5000)\n",
    "    kindergartens_near.append(ok)\n",
    "    \n"
   ]
  },
  {
   "cell_type": "markdown",
   "metadata": {},
   "source": [
    "## vegans"
   ]
  },
  {
   "cell_type": "code",
   "execution_count": 91,
   "metadata": {},
   "outputs": [
    {
     "name": "stdout",
     "output_type": "stream",
     "text": [
      "45\n"
     ]
    },
    {
     "data": {
      "text/plain": [
       "45"
      ]
     },
     "execution_count": 91,
     "metadata": {},
     "output_type": "execute_result"
    }
   ],
   "source": [
    "vegans_near = []\n",
    "possible_locations_vegans = list(final_coll.find({'category': 'Video games companies'}))\n",
    "\n",
    "print(len(possible_locations_vegans))\n",
    "\n",
    "for e in vegans_ny:\n",
    "    ok = dist(e,100)\n",
    "    vegans_near.append(ok)\n",
    "    \n",
    "    \n",
    "for office in possible_locations_vegans:\n",
    "    for lst in vegans_near:\n",
    "        yes = 0\n",
    "        if office in lst:\n",
    "            \n",
    "            yes += 1\n",
    "            if yes == 0:\n",
    "                possible_locations_vegans.remove(office)\n",
    "                \n",
    "len(possible_locations_vegans)"
   ]
  },
  {
   "cell_type": "code",
   "execution_count": null,
   "metadata": {},
   "outputs": [],
   "source": []
  }
 ],
 "metadata": {
  "kernelspec": {
   "display_name": "Python 3",
   "language": "python",
   "name": "python3"
  },
  "language_info": {
   "codemirror_mode": {
    "name": "ipython",
    "version": 3
   },
   "file_extension": ".py",
   "mimetype": "text/x-python",
   "name": "python",
   "nbconvert_exporter": "python",
   "pygments_lexer": "ipython3",
   "version": "3.7.5rc1"
  }
 },
 "nbformat": 4,
 "nbformat_minor": 2
}
