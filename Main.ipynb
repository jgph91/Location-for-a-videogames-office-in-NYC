{
 "cells": [
  {
   "cell_type": "code",
   "execution_count": 1,
   "metadata": {
    "scrolled": true
   },
   "outputs": [],
   "source": [
    "# modules\n",
    "\n",
    "import folium\n",
    "from SRC.functions import connectCollection,dist"
   ]
  },
  {
   "cell_type": "markdown",
   "metadata": {},
   "source": [
    "## Conecting to the final collection, which stores the cleaned coordinates"
   ]
  },
  {
   "cell_type": "code",
   "execution_count": 2,
   "metadata": {},
   "outputs": [],
   "source": [
    "# final collection\n",
    "final_db, final_coll = connectCollection('New_York','Final_New_York')"
   ]
  },
  {
   "cell_type": "code",
   "execution_count": 74,
   "metadata": {},
   "outputs": [
    {
     "data": {
      "text/plain": [
       "60"
      ]
     },
     "execution_count": 74,
     "metadata": {},
     "output_type": "execute_result"
    }
   ],
   "source": [
    "# getting the coordinates of video games offices in New York\n",
    "games_ny = list(final_coll.find({'category': 'Video games companies'}))\n",
    "\n",
    "# getting the coordinates of the offices in New York, which were founded before 2009\n",
    "office_10 = list(final_coll.find({'category': 'Old companies'}))\n",
    "\n",
    "# getting the coordinates of Starbucks in New York\n",
    "starbucks_ny = list(final_coll.find({'category': 'Starbucks'}))\n",
    "\n",
    "# getting the coordinates of Kindergartens in New York\n",
    "kindergartens_ny = list(final_coll.find({'category': 'Kindergartens'}))\n",
    "\n",
    "# getting the coordinates of Vegans in New York\n",
    "vegans_ny = list(final_coll.find({'category': 'Vegan food'}))\n",
    "\n",
    "# getting the coordinates of Clubs in New York\n",
    "clubs_ny = list(final_coll.find({'category': 'Clubs'}))"
   ]
  },
  {
   "cell_type": "markdown",
   "metadata": {},
   "source": [
    "## Requisites"
   ]
  },
  {
   "cell_type": "markdown",
   "metadata": {},
   "source": [
    "- Designers like to go to design talks and share knowledge. There must be some nearby companies that also do design.    \n",
    "- Nobody in the company likes to have companies with more than 10 years in a radius of 2 KM.    \n",
    "- Executives like Starbucks A LOT. Ensure there's a starbucks not to far.\n",
    "- The CEO is Vegan \n",
    "- All people in the company have between 25 and 40 years, give them some place to go to party."
   ]
  },
  {
   "cell_type": "markdown",
   "metadata": {},
   "source": [
    "## old"
   ]
  },
  {
   "cell_type": "code",
   "execution_count": 89,
   "metadata": {
    "scrolled": true
   },
   "outputs": [
    {
     "name": "stdout",
     "output_type": "stream",
     "text": [
      "45\n",
      "1\n"
     ]
    }
   ],
   "source": [
    "# the future office is going to be located in the same building, where other video games company has it's office\n",
    "# offices which are located in a radius of 2 km near old companies, founded before 2009 are discarded\n",
    "       \n",
    "old_near = []#list for storing possible locations which meets the requirement \n",
    "possible_locations_old = list(final_coll.find({'category': 'Video games companies'}))\n",
    "\n",
    "print(len(possible_locations_old))\n",
    "\n",
    "for e in office_10:# coordinates of each old company\n",
    "    ok = dist(e,1000)\n",
    "    old_near.append(ok)\n",
    "    \n",
    "\n",
    "for e in old_near:\n",
    "    for subelement in e:\n",
    "        if subelement in possible_locations_old:\n",
    "            possible_locations_old.remove(subelement)\n",
    "            \n",
    "print(len(possible_locations_old))"
   ]
  },
  {
   "cell_type": "markdown",
   "metadata": {},
   "source": [
    "## Starbucks"
   ]
  },
  {
   "cell_type": "code",
   "execution_count": 183,
   "metadata": {},
   "outputs": [],
   "source": [
    "#list for storing possible locations which meets the requirement \n",
    "starbucks_near = []\n",
    "possible_locations_starbucks = list(final_coll.find({'category': 'Video games companies'}))\n",
    "\n",
    "\n",
    "for e in starbucks_ny:\n",
    "    ok = dist(e,300)\n",
    "    starbucks_near.append(ok)\n",
    "\n",
    "# list storing video games offices which have a starbucks in its surroundings \n",
    "starbucks_near = [x for x in starbucks_near if x != []]\n",
    "\n",
    "# list including the offices which meet the requirement\n",
    "starbucks_near = [item for sublist in starbucks_near for item in sublist]\n",
    "\n",
    "#cleaning duplicates\n",
    "\n",
    "starbucks_near_final = []\n",
    "\n",
    "for e in starbucks_near:\n",
    "    if e not in starbucks_near_final:\n",
    "        starbucks_near_final.append(e)"
   ]
  },
  {
   "cell_type": "code",
   "execution_count": 176,
   "metadata": {},
   "outputs": [
    {
     "data": {
      "text/html": [
       "<div style=\"width:100%;\"><div style=\"position:relative;width:100%;height:0;padding-bottom:60%;\"><iframe src=\"data:text/html;charset=utf-8;base64,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\" style=\"position:absolute;width:100%;height:100%;left:0;top:0;border:none !important;\" allowfullscreen webkitallowfullscreen mozallowfullscreen></iframe></div></div>"
      ],
      "text/plain": [
       "<folium.folium.Map at 0x7fccb1c8b210>"
      ]
     },
     "metadata": {},
     "output_type": "display_data"
    }
   ],
   "source": [
    "# map showing offices which meet this requirement\n",
    "\n",
    "map_city = folium.Map(location=[40.730610,-73.935242], zoom_start=12)\n",
    "\n",
    "for i in range(len(starbucks_near_final)):\n",
    "    folium.Marker([starbucks_near_final[i]['coordinates'][-1],starbucks_near_final[i]['coordinates'][0]],\n",
    "                    radius=0.1,\n",
    "                    icon=folium.Icon(prefix='fa',icon='gamepad',color='blue'), \n",
    "                   ).add_to(map_city)\n",
    "display(map_city)"
   ]
  },
  {
   "cell_type": "markdown",
   "metadata": {},
   "source": [
    "## Kindergartens"
   ]
  },
  {
   "cell_type": "code",
   "execution_count": 182,
   "metadata": {},
   "outputs": [],
   "source": [
    "kindergartens_near = []#list for storing possible locations which meets the requirement \n",
    "possible_locations_kindergartens = list(final_coll.find({'category': 'Video games companies'}))\n",
    "\n",
    "for e in kindergartens_ny:\n",
    "    ok = dist(e,300)\n",
    "    kindergartens_near.append(ok)\n",
    "    \n",
    "# list storing video games offices which have a Kindergartens near \n",
    "kindergartens_near = [x for x in kindergartens_near if x != []]\n",
    "\n",
    "# list including the offices which meet the requirement\n",
    "kindergartens_near = [item for sublist in kindergartens_near for item in sublist]\n",
    "\n",
    "#cleaning duplicates\n",
    "\n",
    "kindergartens_near_final = []\n",
    "\n",
    "for e in kindergartens_near:\n",
    "    if e not in kindergartens_near_final:\n",
    "        kindergartens_near_final.append(e)"
   ]
  },
  {
   "cell_type": "code",
   "execution_count": 181,
   "metadata": {},
   "outputs": [
    {
     "data": {
      "text/html": [
       "<div style=\"width:100%;\"><div style=\"position:relative;width:100%;height:0;padding-bottom:60%;\"><iframe src=\"data:text/html;charset=utf-8;base64,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\" style=\"position:absolute;width:100%;height:100%;left:0;top:0;border:none !important;\" allowfullscreen webkitallowfullscreen mozallowfullscreen></iframe></div></div>"
      ],
      "text/plain": [
       "<folium.folium.Map at 0x7fccb1f28190>"
      ]
     },
     "metadata": {},
     "output_type": "display_data"
    }
   ],
   "source": [
    "# map showing offices which meet this requirement\n",
    "\n",
    "map_city = folium.Map(location=[40.730610,-73.935242], zoom_start=12)\n",
    "\n",
    "for i in range(len(kindergartens_near_final)):\n",
    "    folium.Marker([kindergartens_near_final[i]['coordinates'][-1],kindergartens_near_final[i]['coordinates'][0]],\n",
    "                    radius=0.1,\n",
    "                    icon=folium.Icon(prefix='fa',icon='gamepad',color='blue'), \n",
    "                   ).add_to(map_city)\n",
    "display(map_city)"
   ]
  },
  {
   "cell_type": "markdown",
   "metadata": {},
   "source": [
    "## vegans"
   ]
  },
  {
   "cell_type": "code",
   "execution_count": 189,
   "metadata": {},
   "outputs": [],
   "source": [
    "vegans_near = []#list for storing possible locations which meets the requirement \n",
    "possible_locations_vegans = list(final_coll.find({'category': 'Video games companies'}))\n",
    "\n",
    "for e in vegans_ny:\n",
    "    ok = dist(e,300)\n",
    "    vegans_near.append(ok)\n",
    "    \n",
    "# list storing video games offices which have a Kindergartens near \n",
    "vegans_near = [x for x in vegans_near if x != []]\n",
    "\n",
    "# list including the offices which meet the requirement\n",
    "vegans_near = [item for sublist in vegans_near for item in sublist]\n",
    "\n",
    "#cleaning duplicates\n",
    "\n",
    "vegans_near_final = []\n",
    "\n",
    "for e in vegans_near:\n",
    "    if e not in vegans_near_final:\n",
    "        vegans_near_final.append(e)"
   ]
  },
  {
   "cell_type": "code",
   "execution_count": 188,
   "metadata": {},
   "outputs": [
    {
     "data": {
      "text/html": [
       "<div style=\"width:100%;\"><div style=\"position:relative;width:100%;height:0;padding-bottom:60%;\"><iframe src=\"data:text/html;charset=utf-8;base64,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\" style=\"position:absolute;width:100%;height:100%;left:0;top:0;border:none !important;\" allowfullscreen webkitallowfullscreen mozallowfullscreen></iframe></div></div>"
      ],
      "text/plain": [
       "<folium.folium.Map at 0x7fccc4b082d0>"
      ]
     },
     "metadata": {},
     "output_type": "display_data"
    }
   ],
   "source": [
    "# map showing offices which meet this requirement\n",
    "\n",
    "map_city = folium.Map(location=[40.730610,-73.935242], zoom_start=12)\n",
    "\n",
    "for i in range(len(vegans_near_final)):\n",
    "    folium.Marker([vegans_near_final[i]['coordinates'][-1],vegans_near_final[i]['coordinates'][0]],\n",
    "                    radius=0.1,\n",
    "                    icon=folium.Icon(prefix='fa',icon='gamepad',color='blue'), \n",
    "                   ).add_to(map_city)\n",
    "display(map_city)"
   ]
  },
  {
   "cell_type": "markdown",
   "metadata": {},
   "source": [
    "## Clubs"
   ]
  },
  {
   "cell_type": "code",
   "execution_count": 193,
   "metadata": {},
   "outputs": [],
   "source": [
    "clubs_near = []#list for storing possible locations which meets the requirement \n",
    "possible_locations_clubs = list(final_coll.find({'category': 'Video games companies'}))\n",
    "\n",
    "for e in clubs_ny:\n",
    "    ok = dist(e,300)\n",
    "    clubs_near.append(ok)\n",
    "    \n",
    "# list storing video games offices which have a Kindergartens near \n",
    "clubs_near = [x for x in clubs_near if x != []]\n",
    "\n",
    "# list including the offices which meet the requirement\n",
    "clubs_near = [item for sublist in clubs_near for item in sublist]\n",
    "\n",
    "#cleaning duplicates\n",
    "\n",
    "clubs_near_final = []\n",
    "\n",
    "for e in clubs_near:\n",
    "    if e not in clubs_near_final:\n",
    "        clubs_near_final.append(e)"
   ]
  },
  {
   "cell_type": "code",
   "execution_count": 194,
   "metadata": {},
   "outputs": [
    {
     "data": {
      "text/html": [
       "<div style=\"width:100%;\"><div style=\"position:relative;width:100%;height:0;padding-bottom:60%;\"><iframe src=\"data:text/html;charset=utf-8;base64,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\" style=\"position:absolute;width:100%;height:100%;left:0;top:0;border:none !important;\" allowfullscreen webkitallowfullscreen mozallowfullscreen></iframe></div></div>"
      ],
      "text/plain": [
       "<folium.folium.Map at 0x7fccb1736150>"
      ]
     },
     "metadata": {},
     "output_type": "display_data"
    }
   ],
   "source": [
    "# map showing offices which meet this requirement\n",
    "\n",
    "map_city = folium.Map(location=[40.730610,-73.935242], zoom_start=12)\n",
    "\n",
    "for i in range(len(clubs_near_final)):\n",
    "    folium.Marker([clubs_near_final[i]['coordinates'][-1],clubs_near_final[i]['coordinates'][0]],\n",
    "                    radius=0.1,\n",
    "                    icon=folium.Icon(prefix='fa',icon='gamepad',color='blue'), \n",
    "                   ).add_to(map_city)\n",
    "display(map_city)"
   ]
  },
  {
   "cell_type": "markdown",
   "metadata": {},
   "source": [
    "## Final"
   ]
  },
  {
   "cell_type": "code",
   "execution_count": 197,
   "metadata": {},
   "outputs": [
    {
     "ename": "SyntaxError",
     "evalue": "invalid syntax (<ipython-input-197-31fb58ac2ee7>, line 4)",
     "output_type": "error",
     "traceback": [
      "\u001b[0;36m  File \u001b[0;32m\"<ipython-input-197-31fb58ac2ee7>\"\u001b[0;36m, line \u001b[0;32m4\u001b[0m\n\u001b[0;31m    if offices (in starbucks_near_final) and (in kindergartens_near_final) and in vegans_near_final and in clubs_near_final:\u001b[0m\n\u001b[0m                 ^\u001b[0m\n\u001b[0;31mSyntaxError\u001b[0m\u001b[0;31m:\u001b[0m invalid syntax\n"
     ]
    }
   ],
   "source": [
    "choice =[]\n",
    "\n",
    "for office in games_ny:\n",
    "    if offices in starbucks_near_final and in kindergartens_near_final: and in vegans_near_final and in clubs_near_final:\n",
    "        choice.append(office)\n",
    "choice"
   ]
  },
  {
   "cell_type": "code",
   "execution_count": null,
   "metadata": {},
   "outputs": [],
   "source": []
  }
 ],
 "metadata": {
  "kernelspec": {
   "display_name": "Python 3",
   "language": "python",
   "name": "python3"
  },
  "language_info": {
   "codemirror_mode": {
    "name": "ipython",
    "version": 3
   },
   "file_extension": ".py",
   "mimetype": "text/x-python",
   "name": "python",
   "nbconvert_exporter": "python",
   "pygments_lexer": "ipython3",
   "version": "3.7.5rc1"
  }
 },
 "nbformat": 4,
 "nbformat_minor": 2
}
