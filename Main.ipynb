{
 "cells": [
  {
   "cell_type": "code",
   "execution_count": 1,
   "metadata": {},
   "outputs": [],
   "source": [
    "# modules\n",
    "\n",
    "import folium\n",
    "from SRC.functions import connectCollection"
   ]
  },
  {
   "cell_type": "markdown",
   "metadata": {},
   "source": [
    "## Conecting to the final collection, which stores the cleaned coordinates"
   ]
  },
  {
   "cell_type": "code",
   "execution_count": 2,
   "metadata": {},
   "outputs": [],
   "source": [
    "# final collection\n",
    "final_db, final_coll = connectCollection('New_York','Final_New_York')"
   ]
  },
  {
   "cell_type": "code",
   "execution_count": 5,
   "metadata": {},
   "outputs": [],
   "source": [
    "# getting the coordinates of video games offices in New York\n",
    "games_ny = list(final_coll.find({'category': 'Video games companies'}))\n",
    "\n",
    "# getting the coordinates of the offices in New York, which were founded before 2009\n",
    "office_10 = list(final_coll.find({'category': 'Old companies'}))\n",
    "\n",
    "# getting the coordinates of Starbucks in New York\n",
    "starbucks_ny = list(final_coll.find({'category': 'Starbucks'}))\n",
    "\n",
    "# getting the coordinates of Kindergartens in New York\n",
    "kindergartens_ny = list(final_coll.find({'category': 'Kindergartens'}))\n",
    "\n",
    "# getting the coordinates of Vegans in New York\n",
    "vegans_ny = list(final_coll.find({'category': 'Vegan food'}))\n",
    "\n",
    "# getting the coordinates of Clubs in New York\n",
    "clubs_ny = list(final_coll.find({'category': 'Clubs'}))"
   ]
  },
  {
   "cell_type": "markdown",
   "metadata": {},
   "source": [
    "## Requisites"
   ]
  },
  {
   "cell_type": "markdown",
   "metadata": {},
   "source": [
    "- Designers like to go to design talks and share knowledge. There must be some nearby companies that also do design.    \n",
    "- Nobody in the company likes to have companies with more than 10 years in a radius of 2 KM.    \n",
    "- Executives like Starbucks A LOT. Ensure there's a starbucks not to far.\n",
    "- The CEO is Vegan \n",
    "- All people in the company have between 25 and 40 years, give them some place to go to party."
   ]
  },
  {
   "cell_type": "code",
   "execution_count": 19,
   "metadata": {},
   "outputs": [
    {
     "ename": "TypeError",
     "evalue": "list indices must be integers or slices, not str",
     "output_type": "error",
     "traceback": [
      "\u001b[0;31m---------------------------------------------------------------------------\u001b[0m",
      "\u001b[0;31mTypeError\u001b[0m                                 Traceback (most recent call last)",
      "\u001b[0;32m<ipython-input-19-f405ff22c882>\u001b[0m in \u001b[0;36m<module>\u001b[0;34m()\u001b[0m\n\u001b[1;32m      5\u001b[0m \u001b[0;34m\u001b[0m\u001b[0m\n\u001b[1;32m      6\u001b[0m \u001b[0;34m\u001b[0m\u001b[0m\n\u001b[0;32m----> 7\u001b[0;31m \u001b[0;32mfor\u001b[0m \u001b[0me\u001b[0m \u001b[0;32min\u001b[0m \u001b[0moffice_10\u001b[0m\u001b[0;34m[\u001b[0m\u001b[0;34m'coordinates'\u001b[0m\u001b[0;34m]\u001b[0m\u001b[0;34m:\u001b[0m\u001b[0;34m\u001b[0m\u001b[0;34m\u001b[0m\u001b[0m\n\u001b[0m\u001b[1;32m      8\u001b[0m \u001b[0;34m\u001b[0m\u001b[0m\n\u001b[1;32m      9\u001b[0m     video_games_locations = list(final_coll.find({\n",
      "\u001b[0;31mTypeError\u001b[0m: list indices must be integers or slices, not str"
     ]
    }
   ],
   "source": [
    "# the future office is going to be located in the same building, where other video games company has it's office\n",
    "# offices which are located in a radius of 2 km near old companies, founded before 2009 are discarded\n",
    "\n",
    "\n",
    "\n",
    "\n",
    "for e in office_10['coordinates']:\n",
    "\n",
    "    video_games_locations = list(final_coll.find({\n",
    "       {'category': 'Video games companies'}: {\n",
    "         '$near': {\n",
    "           '$geometry': {\n",
    "              'type': \"Point\" ,\n",
    "              'coordinates': [office_10[e][0],office_10[e][1]]\n",
    "           },\n",
    "\n",
    "           '$minDistance': 2000\n",
    "         }\n",
    "       }\n",
    "    }))\n",
    "           \n",
    "        \n",
    "        \n",
    "            "
   ]
  },
  {
   "cell_type": "code",
   "execution_count": 18,
   "metadata": {},
   "outputs": [
    {
     "data": {
      "text/plain": [
       "[-73.99726, 40.76126]"
      ]
     },
     "execution_count": 18,
     "metadata": {},
     "output_type": "execute_result"
    }
   ],
   "source": [
    "office_10[0]['coordinates']"
   ]
  },
  {
   "cell_type": "code",
   "execution_count": null,
   "metadata": {},
   "outputs": [],
   "source": []
  }
 ],
 "metadata": {
  "kernelspec": {
   "display_name": "Python 3",
   "language": "python",
   "name": "python3"
  },
  "language_info": {
   "codemirror_mode": {
    "name": "ipython",
    "version": 3
   },
   "file_extension": ".py",
   "mimetype": "text/x-python",
   "name": "python",
   "nbconvert_exporter": "python",
   "pygments_lexer": "ipython3",
   "version": "3.7.5rc1"
  }
 },
 "nbformat": 4,
 "nbformat_minor": 2
}
